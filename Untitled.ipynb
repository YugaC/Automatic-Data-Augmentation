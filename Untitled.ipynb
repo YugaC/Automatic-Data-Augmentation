{
 "cells": [
  {
   "cell_type": "code",
   "execution_count": null,
   "id": "1774893e",
   "metadata": {},
   "outputs": [],
   "source": [
    "import os\n",
    "import nibabel as nib\n",
    "import matplotlib.pyplot as plt\n",
    "import numpy as np\n",
    "\n",
    "def load_nii_to_array(file_path):\n",
    "    \"\"\" Load a NIfTI file and return it as a numpy array. \"\"\"\n",
    "    nii = nib.load(file_path)\n",
    "    data = nii.get_fdata()\n",
    "    return data\n",
    "\n",
    "def plot_slice(data, slice_index, axis=2):\n",
    "    \"\"\" Plot a slice of the 3D data. \"\"\"\n",
    "    if axis == 2:  # Axial slice\n",
    "        plt.imshow(data[:, :, slice_index], cmap='gray')\n",
    "    elif axis == 1:  # Coronal slice\n",
    "        plt.imshow(data[:, slice_index, :], cmap='gray')\n",
    "    elif axis == 0:  # Sagittal slice\n",
    "        plt.imshow(data[slice_index, :, :], cmap='gray')\n",
    "    plt.axis('off')\n",
    "\n",
    "# Directory containing the .nii files\n",
    "output_dir = './out'\n",
    "files = [os.path.join(output_dir, f) for f in os.listdir(output_dir) if f.endswith('.nii')]\n",
    "\n",
    "# Load and visualize each file\n",
    "for file_path in files:\n",
    "    data = load_nii_to_array(file_path)\n",
    "    if data.shape[2] > 65:  # Ensure there are enough slices in the axial dimension\n",
    "        plt.figure(figsize=(8, 8))\n",
    "        plt.title(f'Showing 65th slice from {os.path.basename(file_path)}')\n",
    "        plot_slice(data, slice_index=65)  # Plot the 65th slice in axial view\n",
    "        plt.show()\n",
    "    else:\n",
    "        print(f\"File {os.path.basename(file_path)} does not have 65 slices in the axial direction.\")\n"
   ]
  }
 ],
 "metadata": {
  "kernelspec": {
   "display_name": "Python 3",
   "language": "python",
   "name": "python3"
  },
  "language_info": {
   "codemirror_mode": {
    "name": "ipython",
    "version": 3
   },
   "file_extension": ".py",
   "mimetype": "text/x-python",
   "name": "python",
   "nbconvert_exporter": "python",
   "pygments_lexer": "ipython3",
   "version": "3.8.8"
  }
 },
 "nbformat": 4,
 "nbformat_minor": 5
}
